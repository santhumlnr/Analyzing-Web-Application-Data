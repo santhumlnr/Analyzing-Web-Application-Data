{
 "cells": [
  {
   "cell_type": "code",
   "execution_count": 16,
   "id": "bc019cbe",
   "metadata": {},
   "outputs": [],
   "source": [
    "import pandas as pd\n",
    "\n",
    "# Load web application data from a CSV file\n",
    "file_path = \"web_app_data.csv\"  # Replace with your file path\n",
    "data = pd.read_csv(file_path)\n"
   ]
  },
  {
   "cell_type": "code",
   "execution_count": 17,
   "id": "8fbb000a",
   "metadata": {},
   "outputs": [
    {
     "name": "stdout",
     "output_type": "stream",
     "text": [
      "Dataset Preview:\n",
      "   Session ID  Page Views  Session Duration (seconds)     Page Name\n",
      "0           1           3                         120      Homepage\n",
      "1           2           1                          30    Contact Us\n",
      "2           3           4                         200  Product Page\n",
      "3           4           2                          90      Homepage\n",
      "4           5           1                          45      About Us\n"
     ]
    }
   ],
   "source": [
    "# Display the first few rows of the dataset\n",
    "print(\"Dataset Preview:\")\n",
    "print(data.head())"
   ]
  },
  {
   "cell_type": "code",
   "execution_count": 18,
   "id": "0b7a0d25",
   "metadata": {},
   "outputs": [
    {
     "name": "stdout",
     "output_type": "stream",
     "text": [
      "\n",
      "Total Page Views: 11\n"
     ]
    }
   ],
   "source": [
    "# Calculate total page views\n",
    "total_page_views = data['Page Views'].sum()\n",
    "print(\"\\nTotal Page Views:\", total_page_views)"
   ]
  },
  {
   "cell_type": "code",
   "execution_count": 19,
   "id": "4c90215e",
   "metadata": {},
   "outputs": [
    {
     "name": "stdout",
     "output_type": "stream",
     "text": [
      "Average Session Duration (seconds): 97.0\n"
     ]
    }
   ],
   "source": [
    "# Calculate average session duration (in seconds)\n",
    "average_session_duration = data['Session Duration (seconds)'].mean()\n",
    "print(\"Average Session Duration (seconds):\", round(average_session_duration, 2))"
   ]
  },
  {
   "cell_type": "code",
   "execution_count": 20,
   "id": "d948f7c5",
   "metadata": {},
   "outputs": [
    {
     "name": "stdout",
     "output_type": "stream",
     "text": [
      "Bounce Rate (%): 40.0\n"
     ]
    }
   ],
   "source": [
    "# Calculate bounce rate (percentage of sessions with only one page view)\n",
    "single_page_sessions = data[data['Page Views'] == 1].shape[0]\n",
    "total_sessions = data.shape[0]\n",
    "bounce_rate = (single_page_sessions / total_sessions) * 100\n",
    "print(\"Bounce Rate (%):\", round(bounce_rate, 2))"
   ]
  },
  {
   "cell_type": "code",
   "execution_count": 21,
   "id": "d9f03337",
   "metadata": {},
   "outputs": [
    {
     "name": "stdout",
     "output_type": "stream",
     "text": [
      "\n",
      "Top 5 Pages with Most Views:\n",
      "Page Name\n",
      "Homepage        5\n",
      "Product Page    4\n",
      "About Us        1\n",
      "Contact Us      1\n",
      "Name: Page Views, dtype: int64\n"
     ]
    }
   ],
   "source": [
    "# Identify top 5 pages with the most views\n",
    "top_pages = data.groupby('Page Name')['Page Views'].sum().sort_values(ascending=False).head(5)\n",
    "print(\"\\nTop 5 Pages with Most Views:\")\n",
    "print(top_pages)"
   ]
  },
  {
   "cell_type": "code",
   "execution_count": null,
   "id": "ac1b9b17",
   "metadata": {},
   "outputs": [],
   "source": []
  }
 ],
 "metadata": {
  "kernelspec": {
   "display_name": "Python 3 (ipykernel)",
   "language": "python",
   "name": "python3"
  },
  "language_info": {
   "codemirror_mode": {
    "name": "ipython",
    "version": 3
   },
   "file_extension": ".py",
   "mimetype": "text/x-python",
   "name": "python",
   "nbconvert_exporter": "python",
   "pygments_lexer": "ipython3",
   "version": "3.11.5"
  }
 },
 "nbformat": 4,
 "nbformat_minor": 5
}
